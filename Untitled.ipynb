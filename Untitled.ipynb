{
 "cells": [
  {
   "cell_type": "code",
   "execution_count": 2,
   "metadata": {},
   "outputs": [
    {
     "name": "stdout",
     "output_type": "stream",
     "text": [
      "Shashank Shukla\n"
     ]
    }
   ],
   "source": [
    "print(\"Shashank Shukla\")\n"
   ]
  },
  {
   "cell_type": "code",
   "execution_count": 1,
   "metadata": {},
   "outputs": [
    {
     "name": "stdout",
     "output_type": "stream",
     "text": [
      "Hello Python\n"
     ]
    }
   ],
   "source": [
    "print(\"Hello Python Shashank Shukla\")"
   ]
  },
  {
   "cell_type": "code",
   "execution_count": 5,
   "metadata": {},
   "outputs": [
    {
     "name": "stdout",
     "output_type": "stream",
     "text": [
      "['False', 'None', 'True', 'and', 'as', 'assert', 'async', 'await', 'break', 'class', 'continue', 'def', 'del', 'elif', 'else', 'except', 'finally', 'for', 'from', 'global', 'if', 'import', 'in', 'is', 'lambda', 'nonlocal', 'not', 'or', 'pass', 'raise', 'return', 'try', 'while', 'with', 'yield']\n",
      "\n",
      "Total number of keywords: 35\n"
     ]
    }
   ],
   "source": [
    "import keyword\n",
    "print(keyword.kwlist)\n",
    "\n",
    "print(\"\\nTotal number of keywords:\", len(keyword.kwlist))"
   ]
  },
  {
   "cell_type": "code",
   "execution_count": 8,
   "metadata": {},
   "outputs": [
    {
     "name": "stdout",
     "output_type": "stream",
     "text": [
      "36\n"
     ]
    }
   ],
   "source": [
    "a = 1+2+3+4+\\\n",
    "    5+6+7+8\n",
    "print(a)"
   ]
  },
  {
   "cell_type": "code",
   "execution_count": 15,
   "metadata": {},
   "outputs": [
    {
     "name": "stdout",
     "output_type": "stream",
     "text": [
      "hello\n"
     ]
    }
   ],
   "source": [
    "print(\"hello\")"
   ]
  },
  {
   "cell_type": "code",
   "execution_count": 16,
   "metadata": {},
   "outputs": [
    {
     "name": "stdout",
     "output_type": "stream",
     "text": [
      "['False', 'None', 'True', 'and', 'as', 'assert', 'async', 'await', 'break', 'class', 'continue', 'def', 'del', 'elif', 'else', 'except', 'finally', 'for', 'from', 'global', 'if', 'import', 'in', 'is', 'lambda', 'nonlocal', 'not', 'or', 'pass', 'raise', 'return', 'try', 'while', 'with', 'yield']\n"
     ]
    }
   ],
   "source": [
    "print(keyword.kwlist)"
   ]
  },
  {
   "cell_type": "code",
   "execution_count": 4,
   "metadata": {},
   "outputs": [
    {
     "name": "stdout",
     "output_type": "stream",
     "text": [
      "This is AI course\n"
     ]
    }
   ],
   "source": [
    "s= \"\"\"This is AI\\\n",
    " course\"\"\"\n",
    "print(s)"
   ]
  },
  {
   "cell_type": "code",
   "execution_count": 6,
   "metadata": {},
   "outputs": [
    {
     "name": "stdout",
     "output_type": "stream",
     "text": [
      "17\n",
      "u\n"
     ]
    }
   ],
   "source": [
    "print(len(s))\n",
    "print(s[len(s)-21])"
   ]
  },
  {
   "cell_type": "code",
   "execution_count": 37,
   "metadata": {},
   "outputs": [
    {
     "name": "stdout",
     "output_type": "stream",
     "text": [
      "{'a': 'apple', 'b': 'ball'}\n"
     ]
    }
   ],
   "source": [
    "d = {'a':\"apple\",'b':\"ball\"}\n",
    "print(d)\n"
   ]
  },
  {
   "cell_type": "code",
   "execution_count": 1,
   "metadata": {},
   "outputs": [
    {
     "name": "stdout",
     "output_type": "stream",
     "text": [
      "Conratulations, Satish! You have completed 100  lines of code \n"
     ]
    }
   ],
   "source": [
    "user = (\"Satish\")\n",
    "lines = 100\n",
    "print(\"Conratulations, \" +user+ \"! You have completed\",lines,\" lines of code \")"
   ]
  },
  {
   "cell_type": "code",
   "execution_count": 64,
   "metadata": {},
   "outputs": [
    {
     "name": "stdout",
     "output_type": "stream",
     "text": [
      "[1, 2, 3, 4, 4, 5]\n",
      "<class 'list'>\n",
      "{1, 2, 3, 4, 5}\n",
      "<class 'set'>\n"
     ]
    }
   ],
   "source": [
    "a= [1,2,3,4,4,5]\n",
    "print(a)\n",
    "print(type(a))\n",
    "s= set(a)\n",
    "print(s)\n",
    "print(type(s))"
   ]
  },
  {
   "cell_type": "code",
   "execution_count": 66,
   "metadata": {},
   "outputs": [
    {
     "name": "stdout",
     "output_type": "stream",
     "text": [
      "['H', 'e', 'l', 'l', 'o']\n"
     ]
    }
   ],
   "source": [
    "L= \"Hello\"\n",
    "M = list(L)\n",
    "print(M)"
   ]
  },
  {
   "cell_type": "code",
   "execution_count": 2,
   "metadata": {},
   "outputs": [
    {
     "name": "stdout",
     "output_type": "stream",
     "text": [
      "Prime numbers between 10 and 50 are:\n",
      "11\n",
      "13\n",
      "17\n",
      "19\n",
      "23\n",
      "29\n",
      "31\n",
      "37\n",
      "41\n",
      "43\n",
      "47\n"
     ]
    }
   ],
   "source": [
    "index1 = 10\n",
    "index2 = 50\n",
    "print(\"Prime numbers between {0} and {1} are:\".format(index1,index2))\n",
    "\n",
    "for num in range(index1, index2+1):\n",
    "    if num>1:\n",
    "        isDivisible = False;\n",
    "        for index in range(2, num):\n",
    "            if num % index == 0:\n",
    "                isDivisible = True;\n",
    "        if not isDivisible:\n",
    "                print(num);\n",
    "            \n",
    "        \n"
   ]
  },
  {
   "cell_type": "code",
   "execution_count": 6,
   "metadata": {},
   "outputs": [
    {
     "name": "stdout",
     "output_type": "stream",
     "text": [
      "0\n",
      "1\n",
      "2\n",
      "3\n",
      "4\n",
      "5\n",
      "6\n",
      "7\n",
      "8\n",
      "9\n"
     ]
    }
   ],
   "source": [
    "for i in range(10):\n",
    "    print(i)"
   ]
  },
  {
   "cell_type": "code",
   "execution_count": 15,
   "metadata": {},
   "outputs": [
    {
     "name": "stdout",
     "output_type": "stream",
     "text": [
      "Enter a Number7\n",
      "7 is a Prime Number\n"
     ]
    }
   ],
   "source": [
    "num = int(input(\"Enter a Number\"))\n",
    "\n",
    "isDivisible = False;\n",
    "\n",
    "i=2;\n",
    "while i < num:\n",
    "    if num % i == 0:\n",
    "        isDivisible = True;\n",
    "        print(\"{}is divisible by {}\".format(num,i))\n",
    "        break;\n",
    "    i+=1;\n",
    "    \n",
    "if isDivisible:\n",
    "    print(\"{} is not a Prime Number\".format(num))\n",
    "else:\n",
    "    print(\"{} is a Prime Number\".format(num))\n",
    "    "
   ]
  },
  {
   "cell_type": "code",
   "execution_count": 25,
   "metadata": {},
   "outputs": [
    {
     "name": "stdout",
     "output_type": "stream",
     "text": [
      "['One', 'Three']\n"
     ]
    }
   ],
   "source": [
    "lst = ['One','Two','Three','Four']\n",
    "print(lst[::2])"
   ]
  },
  {
   "cell_type": "code",
   "execution_count": null,
   "metadata": {},
   "outputs": [],
   "source": [
    "t = (1,1.5,\"ML\")\n",
    "print(t)\n",
    "t[1]=1.25\n",
    "print(t)"
   ]
  },
  {
   "cell_type": "code",
   "execution_count": 3,
   "metadata": {},
   "outputs": [
    {
     "name": "stdout",
     "output_type": "stream",
     "text": [
      "<class 'str'>\n",
      "<class 'set'>\n",
      "{'o', 'e', 'H', 'l'}\n"
     ]
    }
   ],
   "source": [
    "a = (\"Hello\")\n",
    "print(type(a))\n",
    "s = set(a)\n",
    "print(type(s))\n",
    "print(s)"
   ]
  },
  {
   "cell_type": "code",
   "execution_count": 3,
   "metadata": {},
   "outputs": [
    {
     "name": "stdout",
     "output_type": "stream",
     "text": [
      "17\n"
     ]
    }
   ],
   "source": [
    "x,y,z = 3,5,9\n",
    "print(x+y+z)"
   ]
  },
  {
   "cell_type": "code",
   "execution_count": 4,
   "metadata": {},
   "outputs": [
    {
     "name": "stdout",
     "output_type": "stream",
     "text": [
      "12\n"
     ]
    }
   ],
   "source": [
    "a = 7\n",
    "a+=5\n",
    "print(a)"
   ]
  },
  {
   "cell_type": "code",
   "execution_count": 4,
   "metadata": {},
   "outputs": [
    {
     "name": "stdout",
     "output_type": "stream",
     "text": [
      "This will print always\n"
     ]
    }
   ],
   "source": [
    "num = 11\n",
    "if False:\n",
    "    print(\"Number is positive\")\n",
    "print(\"This will print always\")    "
   ]
  },
  {
   "cell_type": "code",
   "execution_count": 9,
   "metadata": {},
   "outputs": [
    {
     "name": "stdout",
     "output_type": "stream",
     "text": [
      "Largest number among three number is:51\n"
     ]
    }
   ],
   "source": [
    "num1, num2, num3 = 10, 50, 51\n",
    "if (num1>=num2) and (num1>= num3):\n",
    "    largest = num1\n",
    "elif (num2>= num1) and (num2>=num3):\n",
    "    largest = num2\n",
    "else:\n",
    "    largest = num3\n",
    "print(\"Largest number among three number is:{}\".format(largest))    "
   ]
  },
  {
   "cell_type": "code",
   "execution_count": 33,
   "metadata": {},
   "outputs": [
    {
     "name": "stdout",
     "output_type": "stream",
     "text": [
      "Enter a number10\n",
      "10 is divisible by 2\n",
      "10 is divisible by 5\n",
      "10 is not a Prime number\n"
     ]
    }
   ],
   "source": [
    "#Program to check if the given number is Prime or Not\n",
    "num = int(input(\"Enter a number\"))\n",
    "isDivisible = False;\n",
    "i = 2;\n",
    "while i < num:\n",
    "    if num % i == 0:\n",
    "        isDivisible = True;\n",
    "        print(\"{} is divisible by {}\".format(num,i))\n",
    "    i +=1;\n",
    "if isDivisible:\n",
    "    print(\"{} is not a Prime number\".format(num))\n",
    "else:\n",
    "    print(\"{} is a Prime number\".format(num))\n",
    "    "
   ]
  },
  {
   "cell_type": "code",
   "execution_count": 3,
   "metadata": {},
   "outputs": [
    {
     "name": "stdout",
     "output_type": "stream",
     "text": [
      "10 is the product\n",
      "200 is the product\n",
      "6000 is the product\n",
      "240000 is the product\n",
      "12000000 is the product\n"
     ]
    }
   ],
   "source": [
    "lst = [10,20,30,40,50]\n",
    "\n",
    "product = 1\n",
    "\n",
    "for element in lst:\n",
    "    product *=element\n",
    "    print(\"{} is the product\".format(product))\n",
    "    "
   ]
  },
  {
   "cell_type": "code",
   "execution_count": 7,
   "metadata": {
    "scrolled": true
   },
   "outputs": [
    {
     "name": "stdout",
     "output_type": "stream",
     "text": [
      "Enter 1st number2\n",
      "ENter last number20\n",
      "Prime number between 2 and 20 are\n",
      "working for 2\n",
      "========>2 is a prime number\n",
      "working for 3\n",
      "========>3 is a prime number\n",
      "working for 4\n",
      "========>4 is a prime number\n",
      "working for 5\n",
      "========>5 is a prime number\n",
      "working for 6\n",
      "Checking if divisible 2\n",
      "num:6 % index:2\n",
      "working for 7\n",
      "Checking if divisible 2\n",
      "========>7 is a prime number\n",
      "working for 8\n",
      "Checking if divisible 2\n",
      "num:8 % index:2\n",
      "working for 9\n",
      "Checking if divisible 2\n",
      "Checking if divisible 3\n",
      "num:9 % index:3\n",
      "working for 10\n",
      "Checking if divisible 2\n",
      "num:10 % index:2\n",
      "working for 11\n",
      "Checking if divisible 2\n",
      "Checking if divisible 3\n",
      "Checking if divisible 4\n",
      "========>11 is a prime number\n",
      "working for 12\n",
      "Checking if divisible 2\n",
      "num:12 % index:2\n",
      "working for 13\n",
      "Checking if divisible 2\n",
      "Checking if divisible 3\n",
      "Checking if divisible 4\n",
      "Checking if divisible 5\n",
      "========>13 is a prime number\n",
      "working for 14\n",
      "Checking if divisible 2\n",
      "num:14 % index:2\n",
      "working for 15\n",
      "Checking if divisible 2\n",
      "Checking if divisible 3\n",
      "num:15 % index:3\n",
      "working for 16\n",
      "Checking if divisible 2\n",
      "num:16 % index:2\n",
      "working for 17\n",
      "Checking if divisible 2\n",
      "Checking if divisible 3\n",
      "Checking if divisible 4\n",
      "Checking if divisible 5\n",
      "Checking if divisible 6\n",
      "Checking if divisible 7\n",
      "========>17 is a prime number\n",
      "working for 18\n",
      "Checking if divisible 2\n",
      "num:18 % index:2\n",
      "working for 19\n",
      "Checking if divisible 2\n",
      "Checking if divisible 3\n",
      "Checking if divisible 4\n",
      "Checking if divisible 5\n",
      "Checking if divisible 6\n",
      "Checking if divisible 7\n",
      "Checking if divisible 8\n",
      "========>19 is a prime number\n",
      "working for 20\n",
      "Checking if divisible 2\n",
      "num:20 % index:2\n"
     ]
    }
   ],
   "source": [
    "index1 = int(input(\"Enter 1st number\"));\n",
    "index2 = int(input(\"ENter last number\"));\n",
    "\n",
    "print(\"Prime number between {0} and {1} are\".format(index1,index2))\n",
    "\n",
    "for num in range(index1,index2+1):\n",
    "    print(\"working for {}\".format(num))\n",
    "    if num >1:\n",
    "        isDivisible = False;\n",
    "        for index in range (2,num//2):\n",
    "            print(\"Checking if divisible {0}\".format(index));\n",
    "            if num % index == 0:\n",
    "                print(\"num:{0} % index:{1}\".format(num,index));\n",
    "                isDivisible = True;\n",
    "                break;\n",
    "        if isDivisible ==False:\n",
    "            print(\"========>{} is a prime number\".format(num));"
   ]
  },
  {
   "cell_type": "code",
   "execution_count": 28,
   "metadata": {},
   "outputs": [
    {
     "name": "stdout",
     "output_type": "stream",
     "text": [
      "Please enter 1st number1\n",
      "Please ender last number20\n",
      "Prime numbers between1 and 20\n",
      "          Working for number:1\n",
      "          Working for number:2\n",
      "==> 2 is a prime number\n",
      "          Working for number:3\n",
      "          checking if divisible by 2\n",
      "==> 3 is a prime number\n",
      "          Working for number:4\n",
      "          checking if divisible by 2\n",
      "       4 is not a prime number\n",
      "          Working for number:5\n",
      "          checking if divisible by 2\n",
      "          checking if divisible by 3\n",
      "          checking if divisible by 4\n",
      "==> 5 is a prime number\n",
      "          Working for number:6\n",
      "          checking if divisible by 2\n",
      "       6 is not a prime number\n",
      "          Working for number:7\n",
      "          checking if divisible by 2\n",
      "          checking if divisible by 3\n",
      "          checking if divisible by 4\n",
      "          checking if divisible by 5\n",
      "          checking if divisible by 6\n",
      "==> 7 is a prime number\n",
      "          Working for number:8\n",
      "          checking if divisible by 2\n",
      "       8 is not a prime number\n",
      "          Working for number:9\n",
      "          checking if divisible by 2\n",
      "          checking if divisible by 3\n",
      "       9 is not a prime number\n",
      "          Working for number:10\n",
      "          checking if divisible by 2\n",
      "       10 is not a prime number\n",
      "          Working for number:11\n",
      "          checking if divisible by 2\n",
      "          checking if divisible by 3\n",
      "          checking if divisible by 4\n",
      "          checking if divisible by 5\n",
      "          checking if divisible by 6\n",
      "          checking if divisible by 7\n",
      "          checking if divisible by 8\n",
      "          checking if divisible by 9\n",
      "          checking if divisible by 10\n",
      "==> 11 is a prime number\n",
      "          Working for number:12\n",
      "          checking if divisible by 2\n",
      "       12 is not a prime number\n",
      "          Working for number:13\n",
      "          checking if divisible by 2\n",
      "          checking if divisible by 3\n",
      "          checking if divisible by 4\n",
      "          checking if divisible by 5\n",
      "          checking if divisible by 6\n",
      "          checking if divisible by 7\n",
      "          checking if divisible by 8\n",
      "          checking if divisible by 9\n",
      "          checking if divisible by 10\n",
      "          checking if divisible by 11\n",
      "          checking if divisible by 12\n",
      "==> 13 is a prime number\n",
      "          Working for number:14\n",
      "          checking if divisible by 2\n",
      "       14 is not a prime number\n",
      "          Working for number:15\n",
      "          checking if divisible by 2\n",
      "          checking if divisible by 3\n",
      "       15 is not a prime number\n",
      "          Working for number:16\n",
      "          checking if divisible by 2\n",
      "       16 is not a prime number\n",
      "          Working for number:17\n",
      "          checking if divisible by 2\n",
      "          checking if divisible by 3\n",
      "          checking if divisible by 4\n",
      "          checking if divisible by 5\n",
      "          checking if divisible by 6\n",
      "          checking if divisible by 7\n",
      "          checking if divisible by 8\n",
      "          checking if divisible by 9\n",
      "          checking if divisible by 10\n",
      "          checking if divisible by 11\n",
      "          checking if divisible by 12\n",
      "          checking if divisible by 13\n",
      "          checking if divisible by 14\n",
      "          checking if divisible by 15\n",
      "          checking if divisible by 16\n",
      "==> 17 is a prime number\n",
      "          Working for number:18\n",
      "          checking if divisible by 2\n",
      "       18 is not a prime number\n",
      "          Working for number:19\n",
      "          checking if divisible by 2\n",
      "          checking if divisible by 3\n",
      "          checking if divisible by 4\n",
      "          checking if divisible by 5\n",
      "          checking if divisible by 6\n",
      "          checking if divisible by 7\n",
      "          checking if divisible by 8\n",
      "          checking if divisible by 9\n",
      "          checking if divisible by 10\n",
      "          checking if divisible by 11\n",
      "          checking if divisible by 12\n",
      "          checking if divisible by 13\n",
      "          checking if divisible by 14\n",
      "          checking if divisible by 15\n",
      "          checking if divisible by 16\n",
      "          checking if divisible by 17\n",
      "          checking if divisible by 18\n",
      "==> 19 is a prime number\n",
      "          Working for number:20\n",
      "          checking if divisible by 2\n",
      "       20 is not a prime number\n"
     ]
    }
   ],
   "source": [
    "index1 = int(input(\"Please enter 1st number\"));\n",
    "index2 = int(input(\"Please ender last number\"));\n",
    "\n",
    "print(\"Prime numbers between{0} and {1}\".format(index1,index2));\n",
    "\n",
    "for num in range(index1,index2+1):\n",
    "    print(\"          Working for number:{}\".format(num));\n",
    "    \n",
    "    if num > 1:\n",
    "        isDivisible = False;\n",
    "        for index in range(2,num):\n",
    "            print(\"          checking if divisible by {}\".format(index))\n",
    "            if num % index == 0:\n",
    "                print(\"       {} is not a prime number\".format(num))\n",
    "                isDivisible = True\n",
    "                break;\n",
    "        if not isDivisible:\n",
    "            print(\"==> {} is a prime number\".format(num));\n",
    "                "
   ]
  },
  {
   "cell_type": "code",
   "execution_count": 34,
   "metadata": {},
   "outputs": [
    {
     "name": "stdout",
     "output_type": "stream",
     "text": [
      "Enter the first number1\n",
      "Enter the last number20\n",
      "1 is a odd number\n",
      "3 is a odd number\n",
      "5 is a odd number\n",
      "7 is a odd number\n",
      "9 is a odd number\n",
      "11 is a odd number\n",
      "13 is a odd number\n",
      "15 is a odd number\n",
      "17 is a odd number\n",
      "19 is a odd number\n"
     ]
    }
   ],
   "source": [
    "number1 = int(input(\"Enter the first number\"));\n",
    "number2 = int(input(\"Enter the last number\"));\n",
    "\n",
    "for num in range (number1,number2+1):\n",
    "    isDivisible = False;\n",
    "    if num % 2 == 0:\n",
    "        isDivisible = True;\n",
    "        continue\n",
    "    if not isDivisible:\n",
    "        print(\"{} is a odd number\".format(num));"
   ]
  },
  {
   "cell_type": "code",
   "execution_count": 37,
   "metadata": {},
   "outputs": [
    {
     "name": "stdout",
     "output_type": "stream",
     "text": [
      "enter 1st number1\n",
      "enter last number25\n",
      "1 is a odd number\n",
      "    checking for 2\n",
      "3 is a odd number\n",
      "    checking for 4\n",
      "5 is a odd number\n",
      "    checking for 6\n",
      "7 is a odd number\n",
      "    checking for 8\n",
      "9 is a odd number\n",
      "    checking for 10\n",
      "11 is a odd number\n",
      "    checking for 12\n",
      "13 is a odd number\n",
      "    checking for 14\n",
      "15 is a odd number\n",
      "    checking for 16\n",
      "17 is a odd number\n",
      "    checking for 18\n",
      "19 is a odd number\n",
      "    checking for 20\n",
      "21 is a odd number\n",
      "    checking for 22\n",
      "23 is a odd number\n",
      "    checking for 24\n",
      "25 is a odd number\n",
      "else block\n"
     ]
    }
   ],
   "source": [
    "num1 = int(input(\"enter 1st number\"))\n",
    "num2 = int(input(\"enter last number\"))\n",
    "\n",
    "for num in range (num1,num2+1):\n",
    "    if num % 2 == 0:\n",
    "        print(\"    checking for {}\".format(num))\n",
    "        continue\n",
    "    print(\"{} is a odd number\".format(num));\n",
    "else:\n",
    "    print(\"else block\");"
   ]
  },
  {
   "cell_type": "code",
   "execution_count": 71,
   "metadata": {},
   "outputs": [
    {
     "name": "stdout",
     "output_type": "stream",
     "text": [
      "['one', 'two', 'three', 'four']\n",
      "['one', 'two', 'three', 'four', 'five']\n",
      "['zero', 'one', 'two', 'three', 'four', 'five']\n",
      "zero\n",
      "one\n",
      "two\n",
      "three\n",
      "four\n",
      "five\n",
      "1\n",
      "2\n",
      "3\n",
      "4\n"
     ]
    }
   ],
   "source": [
    "lst1 = ['one','two','three','four']\n",
    "lst2 = [1,2,3,4]\n",
    "lst3 = [[1,2],[2,3],[4,5]]\n",
    "lst4 = [1,'ramu',24,1.25]\n",
    "print(lst1);\n",
    "lst1.append('five')\n",
    "print(lst1)\n",
    "lst1.insert(0,'zero')\n",
    "print(lst1)\n",
    "for ele in lst1:\n",
    "    print(ele);\n",
    "    \n",
    "print(*lst2, sep = \"\\n\")    "
   ]
  },
  {
   "cell_type": "code",
   "execution_count": 84,
   "metadata": {},
   "outputs": [
    {
     "name": "stdout",
     "output_type": "stream",
     "text": [
      "[(0, 0), (1, 1), (2, 4), (3, 9), (4, 16), (5, 25), (6, 36), (7, 49), (8, 64), (9, 81)]\n"
     ]
    },
    {
     "data": {
      "text/plain": [
       "1"
      ]
     },
     "execution_count": 84,
     "metadata": {},
     "output_type": "execute_result"
    }
   ],
   "source": [
    "new_lst = [(i,i**2) for i in range (10)]\n",
    "print(new_lst)\n",
    "new_lst.count((1,1))"
   ]
  },
  {
   "cell_type": "code",
   "execution_count": 65,
   "metadata": {},
   "outputs": [
    {
     "name": "stdout",
     "output_type": "stream",
     "text": [
      "[]\n",
      "[]\n",
      "1\n",
      "5\n",
      "9\n",
      "[1, 5, 9]\n",
      "[]\n",
      "2\n",
      "6\n",
      "10\n",
      "[2, 6, 10]\n",
      "[]\n",
      "3\n",
      "7\n",
      "11\n",
      "[3, 7, 11]\n",
      "[]\n",
      "4\n",
      "8\n",
      "12\n",
      "[4, 8, 12]\n",
      "[[1, 5, 9], [2, 6, 10], [3, 7, 11], [4, 8, 12]]\n"
     ]
    }
   ],
   "source": [
    "matrix = [\n",
    "    [1,2,3,4],\n",
    "    [5,6,7,8],\n",
    "    [9,10,11,12]\n",
    "]\n",
    "#transpose of a matrix without list comprehension\n",
    "transposed = []\n",
    "print(transposed);\n",
    "for i in range(4):\n",
    "    lst = []\n",
    "    print(lst)\n",
    "    for row in matrix:\n",
    "        lst.append(row[i])\n",
    "        print(row[i])\n",
    "    transposed.append(lst)\n",
    "    print(lst)\n",
    "    \n",
    "print(transposed)"
   ]
  },
  {
   "cell_type": "code",
   "execution_count": 66,
   "metadata": {},
   "outputs": [],
   "source": [
    "def get_sum(lst):\n",
    "    \"\"\"\n",
    "    This function returns the sum of all the e;ements in the list\n",
    "    \"\"\"\n",
    "    #initialize sum\n",
    "    _sum = 0\n",
    "    \n",
    "    #iterating over the list\n",
    "    for num in lst:\n",
    "        _sum += num\n",
    "    return _sum        "
   ]
  },
  {
   "cell_type": "code",
   "execution_count": 69,
   "metadata": {},
   "outputs": [
    {
     "name": "stdout",
     "output_type": "stream",
     "text": [
      "10\n"
     ]
    }
   ],
   "source": [
    "s = [1,2,3,4]\n",
    "x = get_sum(s)\n",
    "print(x)"
   ]
  },
  {
   "cell_type": "code",
   "execution_count": 101,
   "metadata": {},
   "outputs": [
    {
     "name": "stdout",
     "output_type": "stream",
     "text": [
      "(0, 1, 2, 3, 4, [5, 6, 7], ['Ram'])\n"
     ]
    },
    {
     "ename": "TypeError",
     "evalue": "unsupported operand type(s) for +: 'int' and 'list'",
     "output_type": "error",
     "traceback": [
      "\u001b[1;31m---------------------------------------------------------------------------\u001b[0m",
      "\u001b[1;31mTypeError\u001b[0m                                 Traceback (most recent call last)",
      "\u001b[1;32m<ipython-input-101-e94b9746713d>\u001b[0m in \u001b[0;36m<module>\u001b[1;34m\u001b[0m\n\u001b[0;32m      2\u001b[0m \u001b[0mt\u001b[0m\u001b[1;33m[\u001b[0m\u001b[1;36m6\u001b[0m\u001b[1;33m]\u001b[0m\u001b[1;33m[\u001b[0m\u001b[1;36m0\u001b[0m\u001b[1;33m]\u001b[0m \u001b[1;33m=\u001b[0m \u001b[1;34m'Ram'\u001b[0m\u001b[1;33m\u001b[0m\u001b[1;33m\u001b[0m\u001b[0m\n\u001b[0;32m      3\u001b[0m \u001b[0mprint\u001b[0m\u001b[1;33m(\u001b[0m\u001b[0mt\u001b[0m\u001b[1;33m)\u001b[0m\u001b[1;33m\u001b[0m\u001b[1;33m\u001b[0m\u001b[0m\n\u001b[1;32m----> 4\u001b[1;33m \u001b[0mprint\u001b[0m\u001b[1;33m(\u001b[0m\u001b[0msum\u001b[0m\u001b[1;33m(\u001b[0m\u001b[0mt\u001b[0m\u001b[1;33m)\u001b[0m\u001b[1;33m)\u001b[0m\u001b[1;33m\u001b[0m\u001b[1;33m\u001b[0m\u001b[0m\n\u001b[0m",
      "\u001b[1;31mTypeError\u001b[0m: unsupported operand type(s) for +: 'int' and 'list'"
     ]
    }
   ],
   "source": [
    "t= (0,1,2,3,4,[5,6,7],[8])\n",
    "t[6][0] = 'Ram'\n",
    "print(t)\n",
    "print(sum(t))"
   ]
  },
  {
   "cell_type": "code",
   "execution_count": 108,
   "metadata": {},
   "outputs": [
    {
     "name": "stdout",
     "output_type": "stream",
     "text": [
      "Hello\n",
      "o\n",
      "ll\n",
      "hello\n",
      "5 Letter found\n"
     ]
    }
   ],
   "source": [
    "myString = \"Hello\"\n",
    "print(myString)\n",
    "print(myString[-1])\n",
    "print(myString[2:4])\n",
    "\n",
    "\n",
    "print(myString.lower())\n",
    "\n",
    "count = 0\n",
    "\n",
    "for z in \"Hello WoooorrrrrRdd\":\n",
    "    if z == \"r\":\n",
    "        count += 1;\n",
    "        \n",
    "print(count, \"Letter found\")   \n"
   ]
  },
  {
   "cell_type": "code",
   "execution_count": 104,
   "metadata": {},
   "outputs": [
    {
     "data": {
      "text/plain": [
       "'hello'"
      ]
     },
     "execution_count": 104,
     "metadata": {},
     "output_type": "execute_result"
    }
   ],
   "source": [
    "\"HeLLo\".lower()\n"
   ]
  },
  {
   "cell_type": "code",
   "execution_count": 112,
   "metadata": {},
   "outputs": [
    {
     "name": "stdout",
     "output_type": "stream",
     "text": [
      "['one', 'two', 'four']\n"
     ]
    }
   ],
   "source": [
    "lst = ['one','two','three','four']\n",
    "lst.remove('three')\n",
    "print(lst)"
   ]
  },
  {
   "cell_type": "code",
   "execution_count": 113,
   "metadata": {},
   "outputs": [
    {
     "name": "stdout",
     "output_type": "stream",
     "text": [
      "['four', 'two', 'one']\n"
     ]
    }
   ],
   "source": [
    "lst.reverse()\n",
    "print(lst)"
   ]
  },
  {
   "cell_type": "code",
   "execution_count": 116,
   "metadata": {},
   "outputs": [
    {
     "name": "stdout",
     "output_type": "stream",
     "text": [
      "sorted list: [1, 2, 3, 4, 5, 6, 7, 8]\n",
      "Orginal List: [3, 7, 1, 5, 6, 2, 8, 4]\n"
     ]
    }
   ],
   "source": [
    "number = [3,7,1,5,6,2,8,4]\n",
    "sorted_lst = sorted(number)\n",
    "print(\"sorted list:\", sorted_lst)\n",
    "print(\"Orginal List:\", number)"
   ]
  },
  {
   "cell_type": "code",
   "execution_count": 120,
   "metadata": {},
   "outputs": [
    {
     "name": "stdout",
     "output_type": "stream",
     "text": [
      "Reverse Sorted List: [8, 7, 6, 5, 4, 3, 2, 1]\n"
     ]
    }
   ],
   "source": [
    "print(\"Reverse Sorted List:\",sorted(number,reverse = True))\n",
    "#\"\"\"if we want to sort the list in reverse order\"\"\""
   ]
  },
  {
   "cell_type": "code",
   "execution_count": 121,
   "metadata": {},
   "outputs": [
    {
     "ename": "TypeError",
     "evalue": "'<' not supported between instances of 'str' and 'int'",
     "output_type": "error",
     "traceback": [
      "\u001b[1;31m---------------------------------------------------------------------------\u001b[0m",
      "\u001b[1;31mTypeError\u001b[0m                                 Traceback (most recent call last)",
      "\u001b[1;32m<ipython-input-121-e2b4a08b7b41>\u001b[0m in \u001b[0;36m<module>\u001b[1;34m\u001b[0m\n\u001b[0;32m      1\u001b[0m \u001b[0mlst\u001b[0m \u001b[1;33m=\u001b[0m \u001b[1;33m[\u001b[0m\u001b[1;36m1\u001b[0m\u001b[1;33m,\u001b[0m\u001b[1;36m4\u001b[0m\u001b[1;33m,\u001b[0m\u001b[1;36m3\u001b[0m\u001b[1;33m,\u001b[0m\u001b[1;34m'b'\u001b[0m\u001b[1;33m,\u001b[0m\u001b[1;36m5\u001b[0m\u001b[1;33m,\u001b[0m\u001b[1;34m'a'\u001b[0m\u001b[1;33m]\u001b[0m\u001b[1;33m\u001b[0m\u001b[1;33m\u001b[0m\u001b[0m\n\u001b[1;32m----> 2\u001b[1;33m \u001b[0mprint\u001b[0m\u001b[1;33m(\u001b[0m\u001b[0mlst\u001b[0m\u001b[1;33m.\u001b[0m\u001b[0msort\u001b[0m\u001b[1;33m(\u001b[0m\u001b[1;33m)\u001b[0m\u001b[1;33m)\u001b[0m\u001b[1;33m\u001b[0m\u001b[1;33m\u001b[0m\u001b[0m\n\u001b[0m",
      "\u001b[1;31mTypeError\u001b[0m: '<' not supported between instances of 'str' and 'int'"
     ]
    }
   ],
   "source": [
    "lst = [1,4,3,'b',5,'a']\n",
    "print(lst.sort())"
   ]
  },
  {
   "cell_type": "code",
   "execution_count": 123,
   "metadata": {},
   "outputs": [
    {
     "name": "stdout",
     "output_type": "stream",
     "text": [
      "[1, 2, 3, 4, 5, 6]\n"
     ]
    }
   ],
   "source": [
    "lst = [1,2,3,4,5]\n",
    "abc = lst\n",
    "abc.append(6)\n",
    "print(lst)"
   ]
  },
  {
   "cell_type": "code",
   "execution_count": 125,
   "metadata": {},
   "outputs": [
    {
     "name": "stdout",
     "output_type": "stream",
     "text": [
      "['one', ' two', ' three', ' four', ' five']\n",
      "['This', 'is', 'applied', 'AI', 'course']\n"
     ]
    }
   ],
   "source": [
    "s = \"one, two, three, four, five\"\n",
    "slst= s.split(',')\n",
    "print(slst)\n",
    "\n",
    "s= \"This is applied AI course\"\n",
    "split_lst = s.split()\n",
    "print(split_lst)"
   ]
  },
  {
   "cell_type": "code",
   "execution_count": 129,
   "metadata": {},
   "outputs": [
    {
     "name": "stdout",
     "output_type": "stream",
     "text": [
      "one\n",
      "two\n",
      "three\n",
      "four\n"
     ]
    }
   ],
   "source": [
    "lst = ['one','two','three','four']\n",
    "for ele in lst:\n",
    "    print(ele)"
   ]
  },
  {
   "cell_type": "code",
   "execution_count": 134,
   "metadata": {},
   "outputs": [
    {
     "name": "stdout",
     "output_type": "stream",
     "text": [
      "0\n",
      "1\n",
      "5\n",
      "9\n",
      "[1, 5, 9]\n",
      "1\n",
      "2\n",
      "6\n",
      "10\n",
      "[2, 6, 10]\n",
      "2\n",
      "3\n",
      "7\n",
      "11\n",
      "[3, 7, 11]\n",
      "3\n",
      "4\n",
      "8\n",
      "12\n",
      "[4, 8, 12]\n",
      "[[1, 5, 9], [2, 6, 10], [3, 7, 11], [4, 8, 12]]\n"
     ]
    }
   ],
   "source": [
    "matrix = [\n",
    "    [1,2,3,4],\n",
    "    [5,6,7,8],\n",
    "    [9,10,11,12]\n",
    "]\n",
    "\n",
    "transposed = []\n",
    "\n",
    "for i in range(4):\n",
    "    print(i)\n",
    "    lst = []\n",
    "    for row in  matrix:\n",
    "        lst.append(row[i])\n",
    "        print(row[i])\n",
    "    transposed.append(lst)\n",
    "    print(lst)\n",
    "print(transposed)"
   ]
  },
  {
   "cell_type": "code",
   "execution_count": 139,
   "metadata": {},
   "outputs": [],
   "source": [
    "#function\n",
    "def print_name(name):\n",
    "    \"\"\" This function prints the name\n",
    "    \"\"\"\n",
    "    print(\"Hello \"+str(name))"
   ]
  },
  {
   "cell_type": "code",
   "execution_count": 140,
   "metadata": {},
   "outputs": [
    {
     "name": "stdout",
     "output_type": "stream",
     "text": [
      "Hello Satish\n"
     ]
    }
   ],
   "source": [
    "print_name('Satish')"
   ]
  },
  {
   "cell_type": "code",
   "execution_count": 141,
   "metadata": {},
   "outputs": [
    {
     "name": "stdout",
     "output_type": "stream",
     "text": [
      " This function prints the name\n",
      "    \n"
     ]
    }
   ],
   "source": [
    "print(print_name.__doc__)"
   ]
  },
  {
   "cell_type": "code",
   "execution_count": 6,
   "metadata": {},
   "outputs": [],
   "source": [
    "def get_sum(lst):\n",
    "    \"\"\"This function returns the sum of all elements in the list.\n",
    "    \"\"\"\n",
    "    _sum = 0\n",
    "    \n",
    "    for ele in lst:\n",
    "        _sum += ele\n",
    "    return _sum;\n",
    "    "
   ]
  },
  {
   "cell_type": "code",
   "execution_count": 8,
   "metadata": {},
   "outputs": [
    {
     "name": "stdout",
     "output_type": "stream",
     "text": [
      "10\n",
      "This function returns the sum of all elements in the list.\n",
      "    \n"
     ]
    }
   ],
   "source": [
    "s = get_sum([1,2,3,4])\n",
    "print(s)\n",
    "\n",
    "print(get_sum.__doc__)"
   ]
  },
  {
   "cell_type": "code",
   "execution_count": 12,
   "metadata": {},
   "outputs": [],
   "source": [
    "# Global variable and Loca variable\n",
    "global_variable = \"This is Shashank Shukla\"\n",
    "\n",
    "def test_life_time() :\n",
    "    \"\"\"This function tests life time of a variable\n",
    "    \"\"\"\n",
    "    local_variable = \"This is Ankur\"\n",
    "    \n",
    "    print(global_variable)\n",
    "    print(local_variable)"
   ]
  },
  {
   "cell_type": "code",
   "execution_count": 14,
   "metadata": {},
   "outputs": [
    {
     "name": "stdout",
     "output_type": "stream",
     "text": [
      "This is Shashank Shukla\n",
      "This is Ankur\n",
      "This is Shashank Shukla\n"
     ]
    },
    {
     "ename": "NameError",
     "evalue": "name 'local_variable' is not defined",
     "output_type": "error",
     "traceback": [
      "\u001b[1;31m---------------------------------------------------------------------------\u001b[0m",
      "\u001b[1;31mNameError\u001b[0m                                 Traceback (most recent call last)",
      "\u001b[1;32m<ipython-input-14-1451a592ca40>\u001b[0m in \u001b[0;36m<module>\u001b[1;34m\u001b[0m\n\u001b[0;32m      3\u001b[0m \u001b[0mprint\u001b[0m\u001b[1;33m(\u001b[0m\u001b[0mglobal_variable\u001b[0m\u001b[1;33m)\u001b[0m\u001b[1;33m\u001b[0m\u001b[1;33m\u001b[0m\u001b[0m\n\u001b[0;32m      4\u001b[0m \u001b[1;33m\u001b[0m\u001b[0m\n\u001b[1;32m----> 5\u001b[1;33m \u001b[0mprint\u001b[0m\u001b[1;33m(\u001b[0m\u001b[0mlocal_variable\u001b[0m\u001b[1;33m)\u001b[0m\u001b[1;33m\u001b[0m\u001b[1;33m\u001b[0m\u001b[0m\n\u001b[0m",
      "\u001b[1;31mNameError\u001b[0m: name 'local_variable' is not defined"
     ]
    }
   ],
   "source": [
    "test_life_time()\n",
    "\n",
    "print(global_variable)\n",
    "\n",
    "print(local_variable)"
   ]
  },
  {
   "cell_type": "code",
   "execution_count": 21,
   "metadata": {},
   "outputs": [],
   "source": [
    "#Functon to print HCF\n",
    "def computeHCF(a,b):\n",
    "    \"\"\"Compute HCF of two numbers\n",
    "    \"\"\"\n",
    "    smaller = b if a>b else a\n",
    "    \n",
    "    hcf = 1\n",
    "    \n",
    "    for i in range (1,smaller+1):\n",
    "        if (a % i == 0) and (b % i ==0):\n",
    "            hcf = i\n",
    "    return(hcf)       "
   ]
  },
  {
   "cell_type": "code",
   "execution_count": 22,
   "metadata": {},
   "outputs": [
    {
     "data": {
      "text/plain": [
       "3"
      ]
     },
     "execution_count": 22,
     "metadata": {},
     "output_type": "execute_result"
    }
   ],
   "source": [
    "computeHCF(9,15)"
   ]
  },
  {
   "cell_type": "code",
   "execution_count": 29,
   "metadata": {},
   "outputs": [
    {
     "name": "stdout",
     "output_type": "stream",
     "text": [
      "index 10 has value 10\n",
      "index 11 has value 20\n",
      "index 12 has value 30\n",
      "index 13 has value 40\n",
      "index 14 has value 50\n"
     ]
    }
   ],
   "source": [
    "number = [10,20,30,40,50]\n",
    "for index, num in enumerate (number,10):\n",
    "    print(\"index {0} has value {1}\".format(index,num))\n",
    "    "
   ]
  },
  {
   "cell_type": "code",
   "execution_count": 31,
   "metadata": {},
   "outputs": [
    {
     "name": "stdout",
     "output_type": "stream",
     "text": [
      "[1, 4, 9, 16]\n"
     ]
    }
   ],
   "source": [
    "numbers = [1,2,3,4]\n",
    "squared = []\n",
    "\n",
    "for num in numbers:\n",
    "    squared.append(num**2)\n",
    "print(squared)    "
   ]
  },
  {
   "cell_type": "code",
   "execution_count": 36,
   "metadata": {},
   "outputs": [
    {
     "name": "stdout",
     "output_type": "stream",
     "text": [
      "[1, 4, 9, 16]\n"
     ]
    }
   ],
   "source": [
    "numbers = [1,2,3,4]\n",
    "\n",
    "def PowerOfTwo(num):\n",
    "    return num**2\n",
    "\n",
    "#using map function\n",
    "\n",
    "squared = list(map(PowerOfTwo,numbers))\n",
    "\n",
    "print(squared)\n",
    "\n"
   ]
  },
  {
   "cell_type": "code",
   "execution_count": 38,
   "metadata": {},
   "outputs": [
    {
     "name": "stdout",
     "output_type": "stream",
     "text": [
      "24\n"
     ]
    }
   ],
   "source": [
    "from functools import reduce\n",
    "\n",
    "def multiply(x,y):\n",
    "    return(x*y)\n",
    "\n",
    "product = reduce(multiply,numbers)\n",
    "print(product)"
   ]
  },
  {
   "cell_type": "code",
   "execution_count": 70,
   "metadata": {},
   "outputs": [
    {
     "name": "stdout",
     "output_type": "stream",
     "text": [
      "Select Option\n",
      "1 for addition\n",
      "2 for sutract\n",
      "3 for multiplication\n",
      "4 for division\n",
      "Enter the choice 1/2/3/43\n",
      "enter first number:20\n",
      "enter second number:20\n",
      "Multiplication of 20.0 and 20.0 is 400.0\n"
     ]
    }
   ],
   "source": [
    "#calculator\n",
    "def add(a,b):\n",
    "    \"\"\"This function add two numbers\n",
    "    \"\"\"\n",
    "    return a+b\n",
    "\n",
    "def subtract(a,b):\n",
    "    \"\"\"This function subtract two numbers\n",
    "    \"\"\"\n",
    "    return(a-b)\n",
    "\n",
    "def multiply(a,b):\n",
    "    \"\"\"This function multiply two numbers\n",
    "    \"\"\"\n",
    "    return(a*b)\n",
    "\n",
    "def division(a,b):\n",
    "    \"\"\"This function divide two numbers\n",
    "    \"\"\"\n",
    "    return(a/b)\n",
    "\n",
    "print(\"Select Option\")\n",
    "print(\"1 for addition\")\n",
    "print(\"2 for sutract\")\n",
    "print(\"3 for multiplication\")\n",
    "print(\"4 for division\")\n",
    "\n",
    "#Take input from user\n",
    "\n",
    "choice = int(input(\"Enter the choice 1/2/3/4\"))\n",
    "\n",
    "num1 = float(input(\"enter first number:\"))\n",
    "num2 = float(input(\"enter second number:\"))\n",
    "             \n",
    "if choice == 1:\n",
    "    print(\"Addition of {0} and {1} is {2}\".format(num1,num2,add(num1,num2)))\n",
    "elif choice == 2:\n",
    "    print(\"Subtraction of {0} and {1} is {2}\".format(num1,num2,subtract(num1,num2))) \n",
    "elif choice == 3:\n",
    "    print(\"Multiplication of {0} and {1} is {2}\".format(num1,num2,multiply(num1,num2))) \n",
    "elif choice == 4:\n",
    "    print(\"Division of {0} and {1} is {2}\".format(num1,num2,division(num1,num2))) \n",
    "else:\n",
    "    print(\"Invalid Choice\")"
   ]
  },
  {
   "cell_type": "code",
   "execution_count": 73,
   "metadata": {},
   "outputs": [
    {
     "name": "stdout",
     "output_type": "stream",
     "text": [
      "Hello Shashank,Good Mornig\n"
     ]
    }
   ],
   "source": [
    "def greet(**kwargs):\n",
    "    \"\"\"This functiongreets to person with the provided msg\n",
    "    \"\"\"\n",
    "    if kwargs:\n",
    "        print(\"Hello {0},{1}\".format(kwargs['name'],kwargs['msg']))\n",
    "greet(name='Shashank',msg='Good Mornig')              \n",
    "        "
   ]
  },
  {
   "cell_type": "code",
   "execution_count": 77,
   "metadata": {},
   "outputs": [
    {
     "name": "stdout",
     "output_type": "stream",
     "text": [
      "('Shashank', 'Ankur', 'Ayush', 'Utkarsh')\n",
      "Hello Shashank, Good Morning\n",
      "Hello Ankur, Good Morning\n",
      "Hello Ayush, Good Morning\n",
      "Hello Utkarsh, Good Morning\n"
     ]
    }
   ],
   "source": [
    "def greet(*names):\n",
    "    \"\"\"This function greets all the persons in the names tuple\n",
    "    \"\"\"\n",
    "    print(names)\n",
    "    \n",
    "    for name in names:\n",
    "        print(\"Hello {0}, Good Morning\".format(name))\n",
    "greet(\"Shashank\",\"Ankur\",\"Ayush\",\"Utkarsh\")        "
   ]
  },
  {
   "cell_type": "code",
   "execution_count": 75,
   "metadata": {},
   "outputs": [
    {
     "name": "stdout",
     "output_type": "stream",
     "text": [
      "('Shashank', 'Ankur', 'Ayush', 'Utkarsh')\n",
      "Hello ('Shashank', 'Ankur', 'Ayush', 'Utkarsh'), Good Morning\n",
      "Hello ('Shashank', 'Ankur', 'Ayush', 'Utkarsh'), Good Morning\n",
      "Hello ('Shashank', 'Ankur', 'Ayush', 'Utkarsh'), Good Morning\n",
      "Hello ('Shashank', 'Ankur', 'Ayush', 'Utkarsh'), Good Morning\n"
     ]
    }
   ],
   "source": []
  },
  {
   "cell_type": "code",
   "execution_count": 13,
   "metadata": {},
   "outputs": [
    {
     "name": "stdout",
     "output_type": "stream",
     "text": [
      "Enter the first value1\n",
      "Enter the 2nd value20\n",
      "Prime number between 1 and 20 are:\n"
     ]
    }
   ],
   "source": [
    "index1 = int(input(\"Enter the first value\"))\n",
    "index2 = int(input(\"Enter the 2nd value\"))\n",
    "\n",
    "print(\"Prime number between {0} and {1} are:\".format(index1,index2))\n",
    "\n",
    "for num in range(index1, index2+1):\n",
    "    isDivisible = False;\n",
    "    if num\n",
    "\n",
    "            \n",
    "        \n"
   ]
  },
  {
   "cell_type": "code",
   "execution_count": 8,
   "metadata": {},
   "outputs": [
    {
     "name": "stdout",
     "output_type": "stream",
     "text": [
      "140719180818272\n",
      "140719180818272\n",
      "140719180818304\n",
      "140719180818272\n"
     ]
    }
   ],
   "source": [
    "x = 3\n",
    "print(id(x))\n",
    "y=3\n",
    "print(id(y))\n",
    "z = 4\n",
    "print(id(z))\n",
    "print(id(y))"
   ]
  },
  {
   "cell_type": "code",
   "execution_count": 35,
   "metadata": {},
   "outputs": [
    {
     "name": "stdout",
     "output_type": "stream",
     "text": [
      "<class 'str'>\n",
      "t\n",
      "n\n",
      "the legent\n"
     ]
    }
   ],
   "source": [
    "x = \"I am the legent\"\n",
    "print(type(x))\n",
    "print(x[-1])\n",
    "print(x[len(x)-2])\n",
    "print(x[5:])"
   ]
  },
  {
   "cell_type": "code",
   "execution_count": 37,
   "metadata": {},
   "outputs": [
    {
     "name": "stdout",
     "output_type": "stream",
     "text": [
      "[10, 20, 40]\n",
      "[10, 30, 40]\n"
     ]
    }
   ],
   "source": [
    "a = [10,20,40]\n",
    "print(a)\n",
    "a[1] = 30\n",
    "print(a)"
   ]
  },
  {
   "cell_type": "code",
   "execution_count": 13,
   "metadata": {},
   "outputs": [
    {
     "ename": "SyntaxError",
     "evalue": "invalid syntax (<ipython-input-13-457c3bec83ff>, line 2)",
     "output_type": "error",
     "traceback": [
      "\u001b[1;36m  File \u001b[1;32m\"<ipython-input-13-457c3bec83ff>\"\u001b[1;36m, line \u001b[1;32m2\u001b[0m\n\u001b[1;33m    lst.insert(2,3,/4,5)\u001b[0m\n\u001b[1;37m                   ^\u001b[0m\n\u001b[1;31mSyntaxError\u001b[0m\u001b[1;31m:\u001b[0m invalid syntax\n"
     ]
    }
   ],
   "source": [
    "lst = [1,2,4]\n",
    "lst.insert(2,3,/s14,5)\n",
    "print(lst)"
   ]
  },
  {
   "cell_type": "code",
   "execution_count": 20,
   "metadata": {},
   "outputs": [
    {
     "name": "stdout",
     "output_type": "stream",
     "text": [
      "Bad Morning\n",
      "Good Morning\n",
      "Good Morning\n"
     ]
    }
   ],
   "source": [
    "s1 = \"Bad Morning\"\n",
    "s2 = s1.replace(\"Bad\",\"Good\")\n",
    "print(s1)\n",
    "print(s2)\n",
    "s1 = s2\n",
    "print(s1)"
   ]
  },
  {
   "cell_type": "code",
   "execution_count": 30,
   "metadata": {},
   "outputs": [
    {
     "name": "stdout",
     "output_type": "stream",
     "text": [
      "12345454321\n",
      "12345454321\n",
      "Given string is palindrome\n"
     ]
    }
   ],
   "source": [
    "myStr = input()\n",
    "myStr = myStr.lower()\n",
    "print(myStr)\n",
    "revStr = reversed(myStr)\n",
    "\n",
    "if list(myStr) == list(revStr):\n",
    "    print(\"Given string is palindrome\")\n",
    "else:\n",
    "    print(\"Not palindrome\")\n"
   ]
  },
  {
   "cell_type": "code",
   "execution_count": 2,
   "metadata": {},
   "outputs": [
    {
     "name": "stdout",
     "output_type": "stream",
     "text": [
      "hello\n"
     ]
    }
   ],
   "source": [
    "print (\"hello\")\n"
   ]
  },
  {
   "cell_type": "code",
   "execution_count": null,
   "metadata": {},
   "outputs": [],
   "source": []
  }
 ],
 "metadata": {
  "kernelspec": {
   "display_name": "Python 3 (ipykernel)",
   "language": "python",
   "name": "python3"
  },
  "language_info": {
   "codemirror_mode": {
    "name": "ipython",
    "version": 3
   },
   "file_extension": ".py",
   "mimetype": "text/x-python",
   "name": "python",
   "nbconvert_exporter": "python",
   "pygments_lexer": "ipython3",
   "version": "3.9.12"
  }
 },
 "nbformat": 4,
 "nbformat_minor": 4
}
